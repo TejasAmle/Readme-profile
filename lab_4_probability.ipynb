{
 "cells": [
  {
   "cell_type": "code",
   "execution_count": 4,
   "metadata": {},
   "outputs": [
    {
     "name": "stdout",
     "output_type": "stream",
     "text": [
      "prob of 1 is 0.2985\n",
      "cdf of 1 is 0.2985\n",
      "prob of 2 is 0.1765\n",
      "cdf of 2 is 0.475\n",
      "prob of 3 is 0.1273\n",
      "cdf of 3 is 0.6023\n",
      "prob of 4 is 0.0944\n",
      "cdf of 4 is 0.6967\n",
      "prob of 5 is 0.0793\n",
      "cdf of 5 is 0.776\n",
      "prob of 6 is 0.0637\n",
      "cdf of 6 is 0.8397\n",
      "prob of 7 is 0.0592\n",
      "cdf of 7 is 0.8989\n",
      "prob of 8 is 0.0517\n",
      "cdf of 8 is 0.9506\n",
      "prob of 9 is 0.0494\n",
      "cdf of 9 is 1.0\n"
     ]
    }
   ],
   "source": [
    "f=open(\"numbers.txt\",\"r+\")\n",
    "a=[]\n",
    "values=[1,2,3,4,5,6,7,8,9]\n",
    "for no in f:\n",
    "    a.append(int((\"\".join(no)).strip()))\n",
    "def prob(n):\n",
    "    c=0;\n",
    "    for i in range(len(a)):\n",
    "         if(a[i]==n):\n",
    "                c+=1\n",
    "    p=c/len(a)\n",
    "    return(p) \n",
    "def sum1(n):\n",
    "    s=0\n",
    "    for i in range(1,n+1):\n",
    "        s+=prob(i);\n",
    "    return s\n",
    "prob=[]\n",
    "freq=[]\n",
    "\n",
    "for x in range(1,10):\n",
    "    prob.append(prob(x))\n",
    "    freq.append(prob(x)*len(a))\n",
    "    print(\"the probability of \" ,x, \"is\",prob(x))\n",
    "    print(\"the cdf of\",x, \"is\",sum1(x))\n",
    "    \n",
    "\n",
    "\n",
    "\n",
    "    \n",
    "        \n",
    "   \n",
    "    "
   ]
  },
  {
   "cell_type": "code",
   "execution_count": 6,
   "metadata": {},
   "outputs": [
    {
     "data": {
      "text/plain": [
       "<BarContainer object of 9 artists>"
      ]
     },
     "execution_count": 6,
     "metadata": {},
     "output_type": "execute_result"
    },
    {
     "data": {
      "image/png": "[encoded data removed]",
      "text/plain": [
       "<Figure size 432x288 with 1 Axes>"
      ]
     },
     "metadata": {},
     "output_type": "display_data"
    }
   ],
   "source": [
    "plt.bar(values,probarr)"
   ]
  },
  {
   "cell_type": "code",
   "execution_count": 42,
   "metadata": {},
   "outputs": [
    {
     "name": "stdout",
     "output_type": "stream",
     "text": [
      "tails 30 times 2.3170690580135184e-05\n",
      "tails more than 35 times 0.998241179138515\n",
      "tails bw 60 and 70 0.028427886812842564\n"
     ]
    }
   ],
   "source": [
    "import math\n",
    "tot=100\n",
    "ph=0.5\n",
    "pt=0.5\n",
    "def cprob(ntails):\n",
    "    p=(math.factorial(tot)/(math.factorial(ntails)*math.factorial(tot-ntails)))*((ph)**(tot-ntails))*((pt)**(ntails))\n",
    "    return p\n",
    "print(\"tails 30 times\",cprob(30))\n",
    "sum1=0.0\n",
    "c=0.0\n",
    "for i in range(1,36):\n",
    "    c=cprob(i)\n",
    "    sum1=sum1+c\n",
    "print(\"tails more than 35 times\",(1-sum1))\n",
    "sum2=0.0\n",
    "for k in range (60,71):\n",
    "    sum2=sum2+cprob(k)\n",
    "print(\"tails bw 60 and 70\",sum2)\n",
    "    \n",
    "    "
   ]
  },
  {
   "cell_type": "code",
   "execution_count": 12,
   "metadata": {},
   "outputs": [
    {
     "data": {
      "text/plain": [
       "<BarContainer object of 9 artists>"
      ]
     },
     "execution_count": 12,
     "metadata": {},
     "output_type": "execute_result"
    },
    {
     "data": {
      "image/png": "[encoded data removed]",
      "text/plain": [
       "<Figure size 432x288 with 1 Axes>"
      ]
     },
     "metadata": {},
     "output_type": "display_data"
    }
   ],
   "source": [
    "plt.bar(values,freqarr,width=1)"
   ]
  },
  {
   "cell_type": "code",
   "execution_count": 11,
   "metadata": {},
   "outputs": [
    {
     "data": {
      "image/png": "[encoded data removed]",
      "text/plain": [
       "<Figure size 432x288 with 1 Axes>"
      ]
     },
     "metadata": {},
     "output_type": "display_data"
    }
   ],
   "source": [
    "import matplotlib.pyplot as plt\n",
    "import numpy as np\n",
    "%matplotlib inline\n",
    "num_bins = 9\n",
    "n, bins, patches = plt.hist(values, num_bins, facecolor='blue', a)\n",
    "plt.show()"
   ]
  },
  {
   "cell_type": "code",
   "execution_count": null,
   "metadata": {},
   "outputs": [],
   "source": []
  }
 ],
 "metadata": {
  "kernelspec": {
   "display_name": "Python 3",
   "language": "python",
   "name": "python3"
  },
  "language_info": {
   "codemirror_mode": {
    "name": "ipython",
    "version": 3
   },
   "file_extension": ".py",
   "mimetype": "text/x-python",
   "name": "python",
   "nbconvert_exporter": "python",
   "pygments_lexer": "ipython3",
   "version": "3.6.5"
  }
 },
 "nbformat": 4,
 "nbformat_minor": 2
}
